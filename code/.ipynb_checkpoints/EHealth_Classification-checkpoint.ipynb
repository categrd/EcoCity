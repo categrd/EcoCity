{
 "cells": [
  {
   "cell_type": "markdown",
   "id": "029c5347-af57-4ab0-b23a-bcfc5a20776d",
   "metadata": {},
   "source": [
    "# Classification Task"
   ]
  },
  {
   "cell_type": "markdown",
   "id": "0cdfbd85-b637-44ee-a497-5834e857b906",
   "metadata": {},
   "source": [
    "## Importing libraries\n"
   ]
  },
  {
   "cell_type": "code",
   "execution_count": 1,
   "id": "3514c021-ddab-4e0c-9215-581ecfd6e924",
   "metadata": {
    "tags": []
   },
   "outputs": [],
   "source": [
    "import numpy as np\n",
    "import pandas as pd\n",
    "\n",
    "# Statistical libraries\n",
    "from scipy import stats\n",
    "\n",
    "# Plotting libraries\n",
    "import matplotlib.pyplot as plt\n",
    "import seaborn as sns\n",
    "%matplotlib inline\n",
    "\n",
    "# Preprocessing\n",
    "from sklearn.preprocessing import StandardScaler\n",
    "\n",
    "# Evaluation Procedures\n",
    "from sklearn.model_selection import train_test_split\n",
    "from sklearn.model_selection import cross_val_score\n",
    "from sklearn.model_selection import StratifiedKFold\n",
    "\n",
    "# Classification methods\n",
    "from sklearn.linear_model import LogisticRegression\n",
    "from sklearn.naive_bayes import GaussianNB\n",
    "from sklearn.neighbors import KNeighborsClassifier\n",
    "from sklearn.tree import DecisionTreeClassifier\n",
    "\n",
    "from sklearn.ensemble import RandomForestClassifier\n",
    "from sklearn.ensemble import ExtraTreesClassifier\n",
    "from sklearn.ensemble import AdaBoostClassifier\n",
    "from sklearn.ensemble import BaggingClassifier\n",
    "\n",
    "from sklearn.ensemble import VotingClassifier\n",
    "\n",
    "# Evaluation Metrics\n",
    "from sklearn.metrics import *"
   ]
  },
  {
   "cell_type": "markdown",
   "id": "fdc68311-edaa-4f15-ae79-b169a3e993e7",
   "metadata": {},
   "source": [
    "## Utility functions"
   ]
  },
  {
   "cell_type": "code",
   "execution_count": 2,
   "id": "9d941beb-883b-4949-8417-a4fc80805436",
   "metadata": {
    "tags": []
   },
   "outputs": [],
   "source": [
    "def PrintConfusionMatrix(model, true_y, predicted_y, positive=1, negative=-1):\n",
    "    cm = confusion_matrix(true_y,predicted_y)\n",
    "    print(\"\\t\"+str(model.classes_[0])+\"\\t\"+str(model.classes_[1]))\n",
    "    print(str(model.classes_[0]) + \"\\t\",cm[0][0],\"\\t\",cm[0][1])\n",
    "    print(str(model.classes_[1]) + \"\\t\",cm[1][0],\"\\t\",cm[1][1])    \n",
    "\n",
    "def PrintSignificance(stat, c):\n",
    "    if (stat[1]<(1-c)):\n",
    "        print(\"The difference is statistically significant (cf %3.2f p-value=%.4f)\"%(c,stat[1]))\n",
    "    else:\n",
    "        print(\"The difference is not statistically significant (cf %3.2f p-value=%.4f)\"%(c,stat[1]))        "
   ]
  },
  {
   "cell_type": "markdown",
   "id": "f92c1773-a5ed-42dd-8261-3b6b457f0589",
   "metadata": {},
   "source": [
    "## Load Data"
   ]
  },
  {
   "cell_type": "code",
   "execution_count": 3,
   "id": "1eaf2998-eb01-4651-b4f6-eb5221fbe891",
   "metadata": {
    "tags": []
   },
   "outputs": [
    {
     "name": "stdout",
     "output_type": "stream",
     "text": [
      "<class 'pandas.core.frame.DataFrame'>\n",
      "Int64Index: 160 entries, 0 to 159\n",
      "Data columns (total 9 columns):\n",
      " #   Column                  Non-Null Count  Dtype  \n",
      "---  ------                  --------------  -----  \n",
      " 0   Age                     160 non-null    float64\n",
      " 1   Attribution Skepticism  160 non-null    float64\n",
      " 2   Impact Skepticism       160 non-null    float64\n",
      " 3   Trend Skepticism        160 non-null    float64\n",
      " 4   Response Skepticism     160 non-null    float64\n",
      " 5   Gender                  160 non-null    int64  \n",
      " 6   Marital                 160 non-null    int64  \n",
      " 7   Education               160 non-null    float64\n",
      " 8   Income                  160 non-null    int64  \n",
      "dtypes: float64(6), int64(3)\n",
      "memory usage: 12.5 KB\n",
      "<class 'pandas.core.series.Series'>\n",
      "Int64Index: 160 entries, 0 to 159\n",
      "Series name: Cluster\n",
      "Non-Null Count  Dtype\n",
      "--------------  -----\n",
      "160 non-null    int64\n",
      "dtypes: int64(1)\n",
      "memory usage: 2.5 KB\n",
      "None None\n",
      "[0 1 2]\n"
     ]
    }
   ],
   "source": [
    "data = pd.read_csv(\"Nrm_kmeans3_df.csv\", index_col=\"Unnamed: 0\")\n",
    "target_variable = 'Cluster'\n",
    "input_variables = data.columns[data.columns!=target_variable]\n",
    "X = data[input_variables]\n",
    "y = data[target_variable]\n",
    "labels_unique = np.unique(y)\n",
    "print(X.info(), y.info())\n",
    "print(labels_unique)"
   ]
  },
  {
   "cell_type": "markdown",
   "id": "ae50d9f7-8c0f-44f6-8e17-6c6174c1c8f7",
   "metadata": {},
   "source": [
    "## Train and test splitting"
   ]
  },
  {
   "cell_type": "code",
   "execution_count": 4,
   "id": "3c70c953-5fa4-4d8e-bede-8bd99930ac65",
   "metadata": {
    "tags": []
   },
   "outputs": [],
   "source": [
    "np.random.seed(1234)\n",
    "X_train, X_test, y_train, y_test = train_test_split(X, y, test_size= 1/4.0, random_state =1234, shuffle=True)\n",
    "crossvalidation = StratifiedKFold(n_splits=10, shuffle=True)"
   ]
  },
  {
   "cell_type": "code",
   "execution_count": 5,
   "id": "fb3ae69f-c077-4681-ae97-a3828e1fe05e",
   "metadata": {
    "tags": []
   },
   "outputs": [
    {
     "name": "stdout",
     "output_type": "stream",
     "text": [
      "Class  2  33.8%\n",
      "Class  0  33.1%\n",
      "Class  1  33.1%\n",
      "\n"
     ]
    }
   ],
   "source": [
    "print(\"Class %2d  %.1f%%\\nClass %2d  %.1f%%\\nClass %2d  %.1f%%\\n\"%((y.value_counts()/y.shape[0]).index[0],100*(y.value_counts()/y.shape[0]).values[0],(y.value_counts()/y.shape[0]).index[1],100*(y.value_counts()/y.shape[0]).values[1],(y.value_counts()/y.shape[0]).index[2], 100*(y.value_counts()/y.shape[0]).values[2]))\n"
   ]
  },
  {
   "cell_type": "markdown",
   "id": "2aa77efd-4fa6-455b-947a-3e12d9b40328",
   "metadata": {
    "tags": []
   },
   "source": [
    "## Methods definition and computation of metrics"
   ]
  },
  {
   "cell_type": "code",
   "execution_count": 6,
   "id": "585793dd-01cc-4e8e-b8c3-bff166251e04",
   "metadata": {
    "tags": []
   },
   "outputs": [],
   "source": [
    "n_estimators = 50\n",
    "\n",
    "methods = {\n",
    "    'Lasso': LogisticRegression(penalty=\"l1\", C=100, random_state=1234, max_iter=300, solver=\"liblinear\", multi_class=\"ovr\"),\n",
    "    'NaiveBayes': GaussianNB(),\n",
    "    'k-NN(5)': KNeighborsClassifier(n_neighbors=5, algorithm='kd_tree'),\n",
    "    'Decision Tree': DecisionTreeClassifier(max_depth=None),\n",
    "    'Bagging(Tree)': BaggingClassifier(DecisionTreeClassifier(max_depth=3), n_estimators=n_estimators),\n",
    "    'Bagging(kNN)': BaggingClassifier(KNeighborsClassifier(n_neighbors=10, algorithm='kd_tree'), n_estimators=n_estimators),\n",
    "    'Random Forest': RandomForestClassifier(n_estimators=n_estimators, max_depth=3, oob_score=True),\n",
    "    'Extremely Randomized Trees': ExtraTreesClassifier(n_estimators=n_estimators, max_depth=3),\n",
    "    'Ada Boost': AdaBoostClassifier(DecisionTreeClassifier(max_depth=3), n_estimators=n_estimators)\n",
    "}\n"
   ]
  },
  {
   "cell_type": "code",
   "execution_count": 7,
   "id": "82574763-e8fd-4c63-84ac-820091a0a002",
   "metadata": {
    "tags": []
   },
   "outputs": [
    {
     "name": "stdout",
     "output_type": "stream",
     "text": [
      "                                   Lasso\n",
      "========================================\n",
      "\t  Accuracy (CV) 0.988 0.025\n",
      "\tAccuracy (Test) 0.925\n",
      "\t      Precision 0.919\n",
      "\t      Recall    0.927\n",
      "\t      F1        0.922\n",
      "\n",
      "\n",
      "                              NaiveBayes\n",
      "========================================\n",
      "\t  Accuracy (CV) 0.994 0.019\n",
      "\tAccuracy (Test) 0.975\n",
      "\t      Precision 0.970\n",
      "\t      Recall    0.980\n",
      "\t      F1        0.974\n",
      "\n",
      "\n",
      "                                 k-NN(5)\n",
      "========================================\n",
      "\t  Accuracy (CV) 0.719 0.119\n",
      "\tAccuracy (Test) 0.800\n",
      "\t      Precision 0.782\n",
      "\t      Recall    0.788\n",
      "\t      F1        0.780\n",
      "\n",
      "\n",
      "                           Decision Tree\n",
      "========================================\n",
      "\t  Accuracy (CV) 0.975 0.041\n",
      "\tAccuracy (Test) 0.975\n",
      "\t      Precision 0.970\n",
      "\t      Recall    0.980\n",
      "\t      F1        0.974\n",
      "\n",
      "\n",
      "                           Bagging(Tree)\n",
      "========================================\n",
      "\t  Accuracy (CV) 0.994 0.019\n",
      "\tAccuracy (Test) 0.975\n",
      "\t      Precision 0.970\n",
      "\t      Recall    0.980\n",
      "\t      F1        0.974\n",
      "\n",
      "\n",
      "                            Bagging(kNN)\n",
      "========================================\n",
      "\t  Accuracy (CV) 0.819 0.071\n",
      "\tAccuracy (Test) 0.850\n",
      "\t      Precision 0.875\n",
      "\t      Recall    0.876\n",
      "\t      F1        0.852\n",
      "\n",
      "\n",
      "                           Random Forest\n",
      "========================================\n",
      "\t  Accuracy (CV) 0.994 0.019\n",
      "\tAccuracy (Test) 0.975\n",
      "\t      Precision 0.970\n",
      "\t      Recall    0.980\n",
      "\t      F1        0.974\n",
      "\n",
      "\n",
      "              Extremely Randomized Trees\n",
      "========================================\n",
      "\t  Accuracy (CV) 0.994 0.019\n",
      "\tAccuracy (Test) 0.975\n",
      "\t      Precision 0.970\n",
      "\t      Recall    0.980\n",
      "\t      F1        0.974\n",
      "\n",
      "\n",
      "                               Ada Boost\n",
      "========================================\n",
      "\t  Accuracy (CV) 0.981 0.029\n",
      "\tAccuracy (Test) 0.975\n",
      "\t      Precision 0.970\n",
      "\t      Recall    0.980\n",
      "\t      F1        0.974\n",
      "\n",
      "\n"
     ]
    }
   ],
   "source": [
    "from sklearn.metrics import accuracy_score, precision_score, recall_score, f1_score, roc_auc_score, roc_curve\n",
    "\n",
    "xval_results = {}\n",
    "roc_results = {}\n",
    "feature_importance_model = {}\n",
    "\n",
    "method = []\n",
    "accuracy_mean = []\n",
    "accuracy_std = []\n",
    "precision = []\n",
    "recall = []\n",
    "f1 = []\n",
    "auc = []\n",
    "\n",
    "for method_name in methods:\n",
    "    clf = methods[method_name]\n",
    "    \n",
    "    # Evaluate the model using cross-validation\n",
    "    xval_score = cross_val_score(clf, X, y, cv=crossvalidation, scoring='accuracy')\n",
    "    \n",
    "    # Store the raw results of cross-validation that we might want to use for t-test/mann-whitney comparison\n",
    "    xval_results[method_name] = xval_score\n",
    "    \n",
    "    # Compute the basic statistics\n",
    "    accuracy_mean.append(np.average(xval_score))\n",
    "    accuracy_std.append(np.std(xval_score))\n",
    "    \n",
    "    clf.fit(X_train, y_train)\n",
    "\n",
    "    # If the model can return an evaluation of feature importance, store it to analyze it later\n",
    "    if hasattr(clf, 'feature_importances_'):\n",
    "        feature_importance_model[method_name] = (clf, clf.feature_importances_)\n",
    "    \n",
    "    # Compute the predictions\n",
    "    yp = clf.predict(X_test)\n",
    "    \n",
    "    # Compute the probabilities for each class\n",
    "    yprob = clf.predict_proba(X_test)\n",
    "    \n",
    "    # Compute the data needed to draw the ROC curve\n",
    "    # Note: ROC and AUC are not typically used for multi-class classification, so you may want to omit this part.\n",
    "    \n",
    "    # Compute the precision, recall, and F1-score\n",
    "    precision.append(precision_score(y_test, yp, average='macro'))\n",
    "    recall.append(recall_score(y_test, yp, average='macro'))\n",
    "    f1.append(f1_score(y_test, yp, average='macro'))\n",
    "    \n",
    "    print(\"%40s\" % method_name)\n",
    "    print(\"========================================\")\n",
    "    print(\"\\t  Accuracy (CV) %.3f %.3f\" % (np.average(xval_score), np.std(xval_score)))\n",
    "    print(\"\\tAccuracy (Test) %.3f\" % accuracy_score(y_test, yp))\n",
    "    print(\"\\t      Precision %.3f\" % precision[-1])\n",
    "    print(\"\\t      Recall    %.3f\" % recall[-1])\n",
    "    print(\"\\t      F1        %.3f\" % f1[-1])\n",
    "    print(\"\\n\")\n",
    "\n",
    "    method.append(method_name)\n"
   ]
  },
  {
   "cell_type": "code",
   "execution_count": 8,
   "id": "8053a93c-46ed-4073-a4bc-717daeb70eba",
   "metadata": {
    "tags": []
   },
   "outputs": [],
   "source": [
    "result_summary_extra = pd.DataFrame({'Model':method,'Accuracy (Mean)':accuracy_mean,'Accuracy (Std)':accuracy_std,'Precision':precision,'Recall':recall,'F1':f1})\n",
    "# result_summary_extra.to_csv('LoanSafety-Summary-Extra.csv')"
   ]
  },
  {
   "cell_type": "markdown",
   "id": "11d73192-4e54-4486-971e-4ffb4b989c73",
   "metadata": {},
   "source": [
    "## Statistical comparison"
   ]
  },
  {
   "cell_type": "code",
   "execution_count": 9,
   "id": "5e328615-23f3-4b6c-9987-1363907e97a9",
   "metadata": {
    "tags": []
   },
   "outputs": [
    {
     "data": {
      "text/html": [
       "<div>\n",
       "<style scoped>\n",
       "    .dataframe tbody tr th:only-of-type {\n",
       "        vertical-align: middle;\n",
       "    }\n",
       "\n",
       "    .dataframe tbody tr th {\n",
       "        vertical-align: top;\n",
       "    }\n",
       "\n",
       "    .dataframe thead th {\n",
       "        text-align: right;\n",
       "    }\n",
       "</style>\n",
       "<table border=\"1\" class=\"dataframe\">\n",
       "  <thead>\n",
       "    <tr style=\"text-align: right;\">\n",
       "      <th></th>\n",
       "      <th>Model</th>\n",
       "      <th>Accuracy (Mean)</th>\n",
       "      <th>Accuracy (Std)</th>\n",
       "      <th>Precision</th>\n",
       "      <th>Recall</th>\n",
       "      <th>F1</th>\n",
       "    </tr>\n",
       "  </thead>\n",
       "  <tbody>\n",
       "    <tr>\n",
       "      <th>0</th>\n",
       "      <td>Lasso</td>\n",
       "      <td>0.98750</td>\n",
       "      <td>0.025000</td>\n",
       "      <td>0.918561</td>\n",
       "      <td>0.927451</td>\n",
       "      <td>0.922078</td>\n",
       "    </tr>\n",
       "    <tr>\n",
       "      <th>1</th>\n",
       "      <td>NaiveBayes</td>\n",
       "      <td>0.99375</td>\n",
       "      <td>0.018750</td>\n",
       "      <td>0.969697</td>\n",
       "      <td>0.980392</td>\n",
       "      <td>0.974026</td>\n",
       "    </tr>\n",
       "    <tr>\n",
       "      <th>2</th>\n",
       "      <td>k-NN(5)</td>\n",
       "      <td>0.71875</td>\n",
       "      <td>0.119406</td>\n",
       "      <td>0.781944</td>\n",
       "      <td>0.788235</td>\n",
       "      <td>0.780210</td>\n",
       "    </tr>\n",
       "    <tr>\n",
       "      <th>3</th>\n",
       "      <td>Decision Tree</td>\n",
       "      <td>0.97500</td>\n",
       "      <td>0.041458</td>\n",
       "      <td>0.969697</td>\n",
       "      <td>0.980392</td>\n",
       "      <td>0.974026</td>\n",
       "    </tr>\n",
       "    <tr>\n",
       "      <th>4</th>\n",
       "      <td>Bagging(Tree)</td>\n",
       "      <td>0.99375</td>\n",
       "      <td>0.018750</td>\n",
       "      <td>0.969697</td>\n",
       "      <td>0.980392</td>\n",
       "      <td>0.974026</td>\n",
       "    </tr>\n",
       "    <tr>\n",
       "      <th>5</th>\n",
       "      <td>Bagging(kNN)</td>\n",
       "      <td>0.81875</td>\n",
       "      <td>0.070986</td>\n",
       "      <td>0.875000</td>\n",
       "      <td>0.876320</td>\n",
       "      <td>0.852272</td>\n",
       "    </tr>\n",
       "    <tr>\n",
       "      <th>6</th>\n",
       "      <td>Random Forest</td>\n",
       "      <td>0.99375</td>\n",
       "      <td>0.018750</td>\n",
       "      <td>0.969697</td>\n",
       "      <td>0.980392</td>\n",
       "      <td>0.974026</td>\n",
       "    </tr>\n",
       "    <tr>\n",
       "      <th>7</th>\n",
       "      <td>Extremely Randomized Trees</td>\n",
       "      <td>0.99375</td>\n",
       "      <td>0.018750</td>\n",
       "      <td>0.969697</td>\n",
       "      <td>0.980392</td>\n",
       "      <td>0.974026</td>\n",
       "    </tr>\n",
       "    <tr>\n",
       "      <th>8</th>\n",
       "      <td>Ada Boost</td>\n",
       "      <td>0.98125</td>\n",
       "      <td>0.028641</td>\n",
       "      <td>0.969697</td>\n",
       "      <td>0.980392</td>\n",
       "      <td>0.974026</td>\n",
       "    </tr>\n",
       "  </tbody>\n",
       "</table>\n",
       "</div>"
      ],
      "text/plain": [
       "                        Model  Accuracy (Mean)  Accuracy (Std)  Precision  \\\n",
       "0                       Lasso          0.98750        0.025000   0.918561   \n",
       "1                  NaiveBayes          0.99375        0.018750   0.969697   \n",
       "2                     k-NN(5)          0.71875        0.119406   0.781944   \n",
       "3               Decision Tree          0.97500        0.041458   0.969697   \n",
       "4               Bagging(Tree)          0.99375        0.018750   0.969697   \n",
       "5                Bagging(kNN)          0.81875        0.070986   0.875000   \n",
       "6               Random Forest          0.99375        0.018750   0.969697   \n",
       "7  Extremely Randomized Trees          0.99375        0.018750   0.969697   \n",
       "8                   Ada Boost          0.98125        0.028641   0.969697   \n",
       "\n",
       "     Recall        F1  \n",
       "0  0.927451  0.922078  \n",
       "1  0.980392  0.974026  \n",
       "2  0.788235  0.780210  \n",
       "3  0.980392  0.974026  \n",
       "4  0.980392  0.974026  \n",
       "5  0.876320  0.852272  \n",
       "6  0.980392  0.974026  \n",
       "7  0.980392  0.974026  \n",
       "8  0.980392  0.974026  "
      ]
     },
     "execution_count": 9,
     "metadata": {},
     "output_type": "execute_result"
    }
   ],
   "source": [
    "result_summary = pd.DataFrame({'Model':method,'Accuracy (Mean)':accuracy_mean,'Accuracy (Std)':accuracy_std,'Precision':precision,'Recall':recall,'F1':f1})\n",
    "# result_summary.to_csv('LoanSafety-Summary.csv')\n",
    "result_summary"
   ]
  },
  {
   "cell_type": "code",
   "execution_count": 10,
   "id": "51ce334b-ad90-4363-a9e0-6b2917a951b5",
   "metadata": {
    "tags": []
   },
   "outputs": [
    {
     "data": {
      "image/png": "[encoded data removed]",
      "text/plain": [
       "<Figure size 900x600 with 1 Axes>"
      ]
     },
     "metadata": {},
     "output_type": "display_data"
    }
   ],
   "source": [
    "f, axe = plt.subplots(1,1, figsize=(9,6))\n",
    "\n",
    "result_summary.sort_values(by=['Accuracy (Mean)'], ascending=False, inplace=True)\n",
    "\n",
    "sns.barplot(x='Accuracy (Mean)', y='Model', data = result_summary, xerr=result_summary['Accuracy (Std)'], ax = axe)\n",
    "axe.set_xlabel('Cross-Validaton Score', size=16)\n",
    "axe.set_ylabel('Model')\n",
    "axe.set_title(\"Accuracy $\\mu\\pm s$\")\n",
    "axe.set_xlim(0.7,1)\n",
    "plt.show()"
   ]
  },
  {
   "cell_type": "markdown",
   "id": "08354f05-edbc-4dfe-9140-da5b5827a1be",
   "metadata": {},
   "source": [
    "## Random Forest"
   ]
  },
  {
   "cell_type": "code",
   "execution_count": 11,
   "id": "7512771e-e0cd-4e59-a209-2e3d67fea944",
   "metadata": {
    "tags": []
   },
   "outputs": [],
   "source": [
    "# Create a Random Forest classifier\n",
    "rf_classifier = RandomForestClassifier(n_estimators=100, random_state=123)\n",
    "\n",
    "# Perform multi-class classification with cross-validation\n",
    "# crossvalidation = 5  # Number of cross-validation folds\n",
    "crossvalidation = StratifiedKFold(n_splits=10, shuffle=True)\n",
    "cross_val_scores = cross_val_score(rf_classifier, X, y, cv=crossvalidation, scoring='accuracy')"
   ]
  },
  {
   "cell_type": "code",
   "execution_count": 12,
   "id": "e32babd2-9fed-47c6-9f3f-3f2d7693db44",
   "metadata": {
    "tags": []
   },
   "outputs": [
    {
     "name": "stdout",
     "output_type": "stream",
     "text": [
      "Cross-Validation Scores: [1.     1.     1.     0.9375 1.     1.     1.     1.     1.     1.    ]\n",
      "Mean Accuracy: 0.99\n",
      "Standard Deviation: 0.02\n"
     ]
    }
   ],
   "source": [
    "# Print the cross-validation scores\n",
    "print(\"Cross-Validation Scores:\", cross_val_scores)\n",
    "\n",
    "# Calculate and print the mean and standard deviation of the scores\n",
    "mean_score = cross_val_scores.mean()\n",
    "std_score = cross_val_scores.std()\n",
    "print(f\"Mean Accuracy: {mean_score:.2f}\")\n",
    "print(f\"Standard Deviation: {std_score:.2f}\")\n"
   ]
  },
  {
   "cell_type": "code",
   "execution_count": 13,
   "id": "4098c06b-ea40-43c5-916f-4511beb121d1",
   "metadata": {
    "tags": []
   },
   "outputs": [
    {
     "data": {
      "text/html": [
       "<style>#sk-container-id-1 {color: black;}#sk-container-id-1 pre{padding: 0;}#sk-container-id-1 div.sk-toggleable {background-color: white;}#sk-container-id-1 label.sk-toggleable__label {cursor: pointer;display: block;width: 100%;margin-bottom: 0;padding: 0.3em;box-sizing: border-box;text-align: center;}#sk-container-id-1 label.sk-toggleable__label-arrow:before {content: \"▸\";float: left;margin-right: 0.25em;color: #696969;}#sk-container-id-1 label.sk-toggleable__label-arrow:hover:before {color: black;}#sk-container-id-1 div.sk-estimator:hover label.sk-toggleable__label-arrow:before {color: black;}#sk-container-id-1 div.sk-toggleable__content {max-height: 0;max-width: 0;overflow: hidden;text-align: left;background-color: #f0f8ff;}#sk-container-id-1 div.sk-toggleable__content pre {margin: 0.2em;color: black;border-radius: 0.25em;background-color: #f0f8ff;}#sk-container-id-1 input.sk-toggleable__control:checked~div.sk-toggleable__content {max-height: 200px;max-width: 100%;overflow: auto;}#sk-container-id-1 input.sk-toggleable__control:checked~label.sk-toggleable__label-arrow:before {content: \"▾\";}#sk-container-id-1 div.sk-estimator input.sk-toggleable__control:checked~label.sk-toggleable__label {background-color: #d4ebff;}#sk-container-id-1 div.sk-label input.sk-toggleable__control:checked~label.sk-toggleable__label {background-color: #d4ebff;}#sk-container-id-1 input.sk-hidden--visually {border: 0;clip: rect(1px 1px 1px 1px);clip: rect(1px, 1px, 1px, 1px);height: 1px;margin: -1px;overflow: hidden;padding: 0;position: absolute;width: 1px;}#sk-container-id-1 div.sk-estimator {font-family: monospace;background-color: #f0f8ff;border: 1px dotted black;border-radius: 0.25em;box-sizing: border-box;margin-bottom: 0.5em;}#sk-container-id-1 div.sk-estimator:hover {background-color: #d4ebff;}#sk-container-id-1 div.sk-parallel-item::after {content: \"\";width: 100%;border-bottom: 1px solid gray;flex-grow: 1;}#sk-container-id-1 div.sk-label:hover label.sk-toggleable__label {background-color: #d4ebff;}#sk-container-id-1 div.sk-serial::before {content: \"\";position: absolute;border-left: 1px solid gray;box-sizing: border-box;top: 0;bottom: 0;left: 50%;z-index: 0;}#sk-container-id-1 div.sk-serial {display: flex;flex-direction: column;align-items: center;background-color: white;padding-right: 0.2em;padding-left: 0.2em;position: relative;}#sk-container-id-1 div.sk-item {position: relative;z-index: 1;}#sk-container-id-1 div.sk-parallel {display: flex;align-items: stretch;justify-content: center;background-color: white;position: relative;}#sk-container-id-1 div.sk-item::before, #sk-container-id-1 div.sk-parallel-item::before {content: \"\";position: absolute;border-left: 1px solid gray;box-sizing: border-box;top: 0;bottom: 0;left: 50%;z-index: -1;}#sk-container-id-1 div.sk-parallel-item {display: flex;flex-direction: column;z-index: 1;position: relative;background-color: white;}#sk-container-id-1 div.sk-parallel-item:first-child::after {align-self: flex-end;width: 50%;}#sk-container-id-1 div.sk-parallel-item:last-child::after {align-self: flex-start;width: 50%;}#sk-container-id-1 div.sk-parallel-item:only-child::after {width: 0;}#sk-container-id-1 div.sk-dashed-wrapped {border: 1px dashed gray;margin: 0 0.4em 0.5em 0.4em;box-sizing: border-box;padding-bottom: 0.4em;background-color: white;}#sk-container-id-1 div.sk-label label {font-family: monospace;font-weight: bold;display: inline-block;line-height: 1.2em;}#sk-container-id-1 div.sk-label-container {text-align: center;}#sk-container-id-1 div.sk-container {/* jupyter's `normalize.less` sets `[hidden] { display: none; }` but bootstrap.min.css set `[hidden] { display: none !important; }` so we also need the `!important` here to be able to override the default hidden behavior on the sphinx rendered scikit-learn.org. See: https://github.com/scikit-learn/scikit-learn/issues/21755 */display: inline-block !important;position: relative;}#sk-container-id-1 div.sk-text-repr-fallback {display: none;}</style><div id=\"sk-container-id-1\" class=\"sk-top-container\"><div class=\"sk-text-repr-fallback\"><pre>RandomForestClassifier(random_state=123)</pre><b>In a Jupyter environment, please rerun this cell to show the HTML representation or trust the notebook. <br />On GitHub, the HTML representation is unable to render, please try loading this page with nbviewer.org.</b></div><div class=\"sk-container\" hidden><div class=\"sk-item\"><div class=\"sk-estimator sk-toggleable\"><input class=\"sk-toggleable__control sk-hidden--visually\" id=\"sk-estimator-id-1\" type=\"checkbox\" checked><label for=\"sk-estimator-id-1\" class=\"sk-toggleable__label sk-toggleable__label-arrow\">RandomForestClassifier</label><div class=\"sk-toggleable__content\"><pre>RandomForestClassifier(random_state=123)</pre></div></div></div></div></div>"
      ],
      "text/plain": [
       "RandomForestClassifier(random_state=123)"
      ]
     },
     "execution_count": 13,
     "metadata": {},
     "output_type": "execute_result"
    }
   ],
   "source": [
    "rf_classifier.fit(X_train, y_train)"
   ]
  },
  {
   "cell_type": "code",
   "execution_count": 14,
   "id": "c38f1320-1dc1-4da3-a8c4-8c22767d2744",
   "metadata": {
    "tags": []
   },
   "outputs": [
    {
     "name": "stdout",
     "output_type": "stream",
     "text": [
      "Accuracy: 0.975\n",
      "Classification Report:\n",
      "              precision    recall  f1-score   support\n",
      "\n",
      "           0       1.00      1.00      1.00        13\n",
      "           1       1.00      0.94      0.97        17\n",
      "           2       0.91      1.00      0.95        10\n",
      "\n",
      "    accuracy                           0.97        40\n",
      "   macro avg       0.97      0.98      0.97        40\n",
      "weighted avg       0.98      0.97      0.98        40\n",
      "\n"
     ]
    }
   ],
   "source": [
    "\n",
    "# Make predictions on the test set\n",
    "y_pred = rf_classifier.predict(X_test)\n",
    "\n",
    "# Calculate and print the accuracy score\n",
    "accuracy = accuracy_score(y_test, y_pred)\n",
    "print(\"Accuracy:\", accuracy)\n",
    "\n",
    "# Generate and print a classification report\n",
    "class_report = classification_report(y_test, y_pred)\n",
    "print(\"Classification Report:\")\n",
    "print(class_report)\n"
   ]
  },
  {
   "cell_type": "code",
   "execution_count": null,
   "id": "4e4b975c-9e93-4a13-a669-cac0c3bf7e00",
   "metadata": {},
   "outputs": [],
   "source": []
  },
  {
   "cell_type": "code",
   "execution_count": null,
   "id": "b3798984-bff4-469c-875e-ba638512558e",
   "metadata": {},
   "outputs": [],
   "source": []
  }
 ],
 "metadata": {
  "kernelspec": {
   "display_name": "Python 3 (ipykernel)",
   "language": "python",
   "name": "python3"
  },
  "language_info": {
   "codemirror_mode": {
    "name": "ipython",
    "version": 3
   },
   "file_extension": ".py",
   "mimetype": "text/x-python",
   "name": "python",
   "nbconvert_exporter": "python",
   "pygments_lexer": "ipython3",
   "version": "3.11.4"
  }
 },
 "nbformat": 4,
 "nbformat_minor": 5
}
