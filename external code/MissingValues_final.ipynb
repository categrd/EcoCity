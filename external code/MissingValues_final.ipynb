{
 "cells": [
  {
   "cell_type": "code",
   "execution_count": 1,
   "metadata": {},
   "outputs": [],
   "source": [
    "import pandas as pd\n",
    "import numpy as np\n",
    "import seaborn as sns\n",
    "import matplotlib.pyplot as plt\n",
    "\n",
    "from sklearn import preprocessing\n",
    "from sklearn.preprocessing import StandardScaler\n",
    "\n",
    "from sklearn import metrics\n",
    "from sklearn.metrics import mean_squared_error, r2_score, confusion_matrix, precision_score, f1_score, mean_absolute_error\n",
    "\n",
    "from sklearn.model_selection import GridSearchCV\n",
    "from sklearn.model_selection import train_test_split\n",
    "from sklearn.model_selection import train_test_split\n",
    "\n",
    "from sklearn.ensemble import RandomForestRegressor\n",
    "from sklearn.impute import SimpleImputer\n",
    "from sklearn.linear_model import LinearRegression\n",
    "from sklearn.neural_network import MLPRegressor\n",
    "from sklearn.tree import DecisionTreeRegressor\n",
    "from sklearn.svm import SVR\n",
    "from sklearn.ensemble import AdaBoostRegressor\n",
    "from sklearn.linear_model import Ridge\n",
    "from sklearn.linear_model import Lasso\n",
    "from sklearn.ensemble import GradientBoostingRegressor\n",
    "from sklearn.neighbors import KNeighborsRegressor\n",
    "\n",
    "from sklearn.feature_selection import SelectKBest, f_regression\n"
   ]
  },
  {
   "cell_type": "code",
   "execution_count": 2,
   "metadata": {},
   "outputs": [
    {
     "name": "stdout",
     "output_type": "stream",
     "text": [
      "<class 'pandas.core.frame.DataFrame'>\n",
      "RangeIndex: 160 entries, 0 to 159\n",
      "Data columns (total 17 columns):\n",
      " #   Column     Non-Null Count  Dtype  \n",
      "---  ------     --------------  -----  \n",
      " 0   age        159 non-null    float64\n",
      " 1   gender     160 non-null    int64  \n",
      " 2   education  159 non-null    float64\n",
      " 3   marital    160 non-null    int64  \n",
      " 4   income     160 non-null    int64  \n",
      " 5   ccs_1      158 non-null    float64\n",
      " 6   ccs_2      160 non-null    int64  \n",
      " 7   ccs_3      159 non-null    float64\n",
      " 8   ccs_4      156 non-null    float64\n",
      " 9   ccs_5      158 non-null    float64\n",
      " 10  ccs_6      157 non-null    float64\n",
      " 11  ccs_7      160 non-null    int64  \n",
      " 12  ccs_8      160 non-null    int64  \n",
      " 13  ccs_9      160 non-null    int64  \n",
      " 14  ccs_10     160 non-null    int64  \n",
      " 15  ccs_11     160 non-null    int64  \n",
      " 16  ccs_12     160 non-null    int64  \n",
      "dtypes: float64(7), int64(10)\n",
      "memory usage: 21.4 KB\n",
      "None\n",
      "              age      gender   education     marital       income  \\\n",
      "count  149.000000  150.000000  149.000000  150.000000    150.00000   \n",
      "mean    38.818792    1.573333   14.114094    1.553333  29194.64000   \n",
      "std     10.928548    1.131292    5.435780    1.435582   9454.68617   \n",
      "min     18.000000    0.000000    5.000000    0.000000  10000.00000   \n",
      "25%     31.000000    1.000000    8.000000    1.000000  23200.00000   \n",
      "50%     40.000000    2.000000   13.000000    1.000000  29000.00000   \n",
      "75%     49.000000    3.000000   18.000000    2.000000  35000.00000   \n",
      "max     55.000000    3.000000   25.000000    5.000000  56000.00000   \n",
      "\n",
      "            ccs_1       ccs_2       ccs_3       ccs_4       ccs_5       ccs_6  \\\n",
      "count  148.000000  150.000000  149.000000  146.000000  148.000000  147.000000   \n",
      "mean     2.114865    2.306667    4.422819    2.342466    1.574324    4.068027   \n",
      "std      2.161895    2.101283    1.875090    2.069277    1.952118    2.144313   \n",
      "min      0.000000    0.000000    0.000000    0.000000    0.000000    0.000000   \n",
      "25%      0.000000    0.000000    4.000000    0.000000    0.000000    2.000000   \n",
      "50%      1.000000    2.000000    5.000000    2.000000    1.000000    5.000000   \n",
      "75%      4.000000    4.000000    6.000000    4.000000    2.000000    6.000000   \n",
      "max      6.000000    6.000000    6.000000    6.000000    6.000000    6.000000   \n",
      "\n",
      "          ccs_7       ccs_8       ccs_9      ccs_10      ccs_11      ccs_12  \n",
      "count  150.0000  150.000000  150.000000  150.000000  150.000000  150.000000  \n",
      "mean     3.7800    2.073333    2.080000    2.013333    2.080000    4.446667  \n",
      "std      2.1106    2.123997    2.096722    1.935145    2.112666    1.919650  \n",
      "min      0.0000    0.000000    0.000000    0.000000    0.000000    0.000000  \n",
      "25%      2.0000    0.000000    0.000000    0.000000    0.000000    4.000000  \n",
      "50%      4.0000    1.000000    1.000000    1.000000    1.500000    5.000000  \n",
      "75%      6.0000    4.000000    3.000000    3.000000    3.750000    6.000000  \n",
      "max      6.0000    6.000000    6.000000    6.000000    6.000000    6.000000  \n"
     ]
    }
   ],
   "source": [
    "df = pd.read_csv(r\"C:\\Users\\asus\\Desktop\\E-Health methods and applications\\Project\\dataset_project_eHealth20232024.csv\")\n",
    "\n",
    "columns_to_drop = df.columns[5:42]  # Columns 5 to 41\n",
    "\n",
    "df = df.drop(columns=columns_to_drop)\n",
    "print(df.info())\n",
    "\n",
    "df = df.drop_duplicates()  # Remove duplicate rows\n",
    "\n",
    "print(df.describe())"
   ]
  },
  {
   "cell_type": "code",
   "execution_count": 3,
   "metadata": {},
   "outputs": [],
   "source": [
    "def reverse_score(string):\n",
    "    # print(df[string])\n",
    "    df[string] = df[string] - 3\n",
    "    df[string] = - df[string]\n",
    "    df[string] = df[string] + 3\n",
    "    # print(df[string])\n",
    "\n",
    "reverse_score('ccs_3')\n",
    "reverse_score('ccs_6')\n",
    "reverse_score('ccs_7')\n",
    "reverse_score('ccs_12')\n",
    "\n",
    "data_ccs = pd.DataFrame()\n",
    "data_ccs['Trend Skepticism'] = df[['ccs_1', 'ccs_7', 'ccs_11']].mean(axis=1)\n",
    "data_ccs['Attribution Skepticism'] = df[['ccs_2', 'ccs_6', 'ccs_9']].mean(axis=1)\n",
    "data_ccs['Impact Skepticism'] = df[['ccs_3', 'ccs_5', 'ccs_12']].mean(axis=1)\n",
    "data_ccs['Response Skepticism'] = df[['ccs_4', 'ccs_8', 'ccs_10']].mean(axis=1)\n",
    "#print (data_ccs)"
   ]
  },
  {
   "cell_type": "code",
   "execution_count": 4,
   "metadata": {},
   "outputs": [
    {
     "name": "stdout",
     "output_type": "stream",
     "text": [
      "NaN Values in Each Column:\n",
      "age          1\n",
      "education    1\n",
      "ccs_1        2\n",
      "ccs_3        1\n",
      "ccs_4        4\n",
      "ccs_5        2\n",
      "ccs_6        3\n",
      "dtype: int64\n",
      "total number of NaN: 14\n"
     ]
    }
   ],
   "source": [
    "nan_values  = df.isna().sum()\n",
    "print(\"NaN Values in Each Column:\")\n",
    "print(nan_values[nan_values>0])\n",
    "print(\"total number of NaN:\", sum(nan_values[nan_values>0]))\n"
   ]
  },
  {
   "cell_type": "code",
   "execution_count": 8,
   "metadata": {},
   "outputs": [
    {
     "name": "stdout",
     "output_type": "stream",
     "text": [
      "results for column age\n",
      "Best Score: 0.489808 using {'estimator': DecisionTreeRegressor(max_depth=3), 'learning_rate': 0.1, 'loss': 'exponential', 'n_estimators': 50, 'random_state': 42}\n",
      "MAE on Train Set: 4.182   Test Set: 5.116\n",
      "MSE on Train Set: 24.578   Test Set: 39.748\n",
      "RMSE on Train Set: 4.958   Test Set: 6.305\n",
      "R^2 on Train Set: 0.796   Test Set: 0.594\n",
      "\n"
     ]
    },
    {
     "name": "stderr",
     "output_type": "stream",
     "text": [
      "c:\\Users\\asus\\AppData\\Local\\Programs\\Python\\Python311\\Lib\\site-packages\\sklearn\\base.py:458: UserWarning: X has feature names, but AdaBoostRegressor was fitted without feature names\n",
      "  warnings.warn(\n"
     ]
    },
    {
     "name": "stdout",
     "output_type": "stream",
     "text": [
      "results for column education\n",
      "Best Score: 0.323100 using {'estimator': DecisionTreeRegressor(max_depth=3), 'learning_rate': 0.01, 'loss': 'exponential', 'n_estimators': 100, 'random_state': 42}\n",
      "MAE on Train Set: 2.566   Test Set: 3.567\n",
      "MSE on Train Set: 10.663   Test Set: 19.245\n",
      "RMSE on Train Set: 3.265   Test Set: 4.387\n",
      "R^2 on Train Set: 0.666   Test Set: -0.129\n",
      "\n"
     ]
    },
    {
     "name": "stderr",
     "output_type": "stream",
     "text": [
      "c:\\Users\\asus\\AppData\\Local\\Programs\\Python\\Python311\\Lib\\site-packages\\sklearn\\base.py:458: UserWarning: X has feature names, but AdaBoostRegressor was fitted without feature names\n",
      "  warnings.warn(\n"
     ]
    },
    {
     "name": "stdout",
     "output_type": "stream",
     "text": [
      "results for column ccs_1\n",
      "Best Score: 0.414682 using {'estimator': SVR(kernel='linear'), 'learning_rate': 0.01, 'loss': 'linear', 'n_estimators': 200, 'random_state': 42}\n",
      "MAE on Train Set: 0.990   Test Set: 1.406\n",
      "MSE on Train Set: 1.734   Test Set: 2.600\n",
      "RMSE on Train Set: 1.317   Test Set: 1.612\n",
      "R^2 on Train Set: 0.600   Test Set: 0.530\n",
      "\n"
     ]
    },
    {
     "name": "stderr",
     "output_type": "stream",
     "text": [
      "c:\\Users\\asus\\AppData\\Local\\Programs\\Python\\Python311\\Lib\\site-packages\\sklearn\\base.py:458: UserWarning: X has feature names, but AdaBoostRegressor was fitted without feature names\n",
      "  warnings.warn(\n"
     ]
    },
    {
     "name": "stdout",
     "output_type": "stream",
     "text": [
      "results for column ccs_3\n",
      "Best Score: 0.555635 using {'estimator': DecisionTreeRegressor(max_depth=3), 'learning_rate': 0.01, 'loss': 'square', 'n_estimators': 50, 'random_state': 42}\n",
      "MAE on Train Set: 0.644   Test Set: 1.044\n",
      "MSE on Train Set: 0.557   Test Set: 2.084\n",
      "RMSE on Train Set: 0.746   Test Set: 1.444\n",
      "R^2 on Train Set: 0.830   Test Set: 0.437\n",
      "\n"
     ]
    },
    {
     "name": "stderr",
     "output_type": "stream",
     "text": [
      "c:\\Users\\asus\\AppData\\Local\\Programs\\Python\\Python311\\Lib\\site-packages\\sklearn\\base.py:458: UserWarning: X has feature names, but AdaBoostRegressor was fitted without feature names\n",
      "  warnings.warn(\n"
     ]
    },
    {
     "name": "stdout",
     "output_type": "stream",
     "text": [
      "results for column ccs_4\n",
      "Best Score: 0.733243 using {'estimator': SVR(kernel='linear'), 'learning_rate': 0.1, 'loss': 'linear', 'n_estimators': 100, 'random_state': 42}\n",
      "MAE on Train Set: 0.791   Test Set: 0.911\n",
      "MSE on Train Set: 0.883   Test Set: 1.280\n",
      "RMSE on Train Set: 0.940   Test Set: 1.131\n",
      "R^2 on Train Set: 0.793   Test Set: 0.681\n",
      "\n"
     ]
    },
    {
     "name": "stderr",
     "output_type": "stream",
     "text": [
      "c:\\Users\\asus\\AppData\\Local\\Programs\\Python\\Python311\\Lib\\site-packages\\sklearn\\base.py:458: UserWarning: X has feature names, but AdaBoostRegressor was fitted without feature names\n",
      "  warnings.warn(\n"
     ]
    },
    {
     "name": "stdout",
     "output_type": "stream",
     "text": [
      "results for column ccs_5\n",
      "Best Score: 0.426104 using {'estimator': KNeighborsRegressor(), 'learning_rate': 0.01, 'loss': 'square', 'n_estimators': 100, 'random_state': 42}\n",
      "MAE on Train Set: 0.850   Test Set: 1.207\n",
      "MSE on Train Set: 1.311   Test Set: 2.423\n",
      "RMSE on Train Set: 1.145   Test Set: 1.557\n",
      "R^2 on Train Set: 0.642   Test Set: 0.418\n",
      "\n"
     ]
    },
    {
     "name": "stderr",
     "output_type": "stream",
     "text": [
      "c:\\Users\\asus\\AppData\\Local\\Programs\\Python\\Python311\\Lib\\site-packages\\sklearn\\base.py:458: UserWarning: X has feature names, but AdaBoostRegressor was fitted without feature names\n",
      "  warnings.warn(\n"
     ]
    },
    {
     "name": "stdout",
     "output_type": "stream",
     "text": [
      "results for column ccs_6\n",
      "Best Score: 0.538814 using {'estimator': SVR(kernel='linear'), 'learning_rate': 0.01, 'loss': 'linear', 'n_estimators': 50, 'random_state': 42}\n",
      "MAE on Train Set: 0.937   Test Set: 1.313\n",
      "MSE on Train Set: 1.633   Test Set: 2.804\n",
      "RMSE on Train Set: 1.278   Test Set: 1.675\n",
      "R^2 on Train Set: 0.642   Test Set: 0.390\n",
      "\n"
     ]
    },
    {
     "name": "stderr",
     "output_type": "stream",
     "text": [
      "c:\\Users\\asus\\AppData\\Local\\Programs\\Python\\Python311\\Lib\\site-packages\\sklearn\\base.py:458: UserWarning: X has feature names, but AdaBoostRegressor was fitted without feature names\n",
      "  warnings.warn(\n"
     ]
    }
   ],
   "source": [
    "columns_with_missing = df.columns[df.isna().any()].tolist()\n",
    "\n",
    "for col in columns_with_missing:\n",
    "  # Split the dataset\n",
    "  columns_with_missing = df.columns[df.isna().any()].tolist()\n",
    "  df_missing = df[df[columns_with_missing].isna().any(axis=1)]\n",
    "  df_no_missing = df.dropna(subset=columns_with_missing)\n",
    "  X = df_no_missing.drop(columns=columns_with_missing)\n",
    "  y = df_no_missing[col]\n",
    "  X_train, X_test, y_train, y_test = train_test_split(X, y, test_size=0.2, random_state=42)\n",
    "\n",
    "  # Scaling only X values\n",
    "  std_scaler = preprocessing.StandardScaler()\n",
    "  X_train_std_scaled = std_scaler.fit_transform(X_train)\n",
    "  X_test_std_scaled = std_scaler.transform(X_test)\n",
    "\n",
    "  # Training and Testing\n",
    "  base1 = SVR(kernel='linear')\n",
    "  base2 = SVR(kernel='rbf')\n",
    "  base3 = DecisionTreeRegressor(max_depth=3)\n",
    "  base4 = KNeighborsRegressor(n_neighbors=5)\n",
    "\n",
    "  ada_regressor = AdaBoostRegressor()\n",
    "  parameters = {\n",
    "      'n_estimators': [50, 100, 200],\n",
    "      'learning_rate': [0.01, 0.1, 0.5, 1],\n",
    "      'estimator': [base1,base2,base3,base4],\n",
    "      'loss': ['linear', 'exponential', 'square'],\n",
    "      \"random_state\" : [42]\n",
    "  }\n",
    "\n",
    "  # GRIDSEARCH\n",
    "  gs = GridSearchCV(ada_regressor, parameters, cv=3, verbose=0, n_jobs=-1)\n",
    "  gs = gs.fit(X_train_std_scaled, y_train)\n",
    "\n",
    "  best_model = gs.best_estimator_\n",
    "  y_pred = best_model.predict(X_test_std_scaled)\n",
    "  y_pred_train = best_model.predict(X_train_std_scaled)\n",
    "\n",
    "  # results\n",
    "  mae_train = metrics.mean_absolute_error(y_train, y_pred_train)\n",
    "  mae_test = metrics.mean_absolute_error(y_test, y_pred)\n",
    "\n",
    "  mse_train = mean_squared_error(y_train, y_pred_train)\n",
    "  mse_test = mean_squared_error(y_test, y_pred)\n",
    "\n",
    "  rmse_train = np.sqrt(mean_squared_error(y_train, y_pred_train))\n",
    "  rmse_test = np.sqrt(mean_squared_error(y_test, y_pred))\n",
    "\n",
    "  r2_train = r2_score(y_train, y_pred_train)\n",
    "  r2_test = r2_score(y_test, y_pred)\n",
    "\n",
    "  print(\"results for column\", col)\n",
    "  print(\"Best Score: %f using %s\" % (gs.best_score_, gs.best_params_))\n",
    "  print(\"MAE on Train Set: %.3f   Test Set: %.3f\" % (mae_train, mae_test))\n",
    "  print(\"MSE on Train Set: %.3f   Test Set: %.3f\" % (mse_train, mse_test))\n",
    "  print(\"RMSE on Train Set: %.3f   Test Set: %.3f\" % (rmse_train, rmse_test))\n",
    "  print(\"R^2 on Train Set: %.3f   Test Set: %.3f\" % (r2_train, r2_test))\n",
    "  print(\"\")\n",
    "\n",
    "  # Prediction\n",
    "  missing_values_predictions = best_model.predict(df_missing.drop(columns=columns_with_missing))\n",
    "\n",
    "  # Replace the missing values in the original DataFrame with the predictions\n",
    "  df.loc[df_missing.index, col] = missing_values_predictions\n"
   ]
  },
  {
   "cell_type": "code",
   "execution_count": 9,
   "metadata": {},
   "outputs": [
    {
     "name": "stdout",
     "output_type": "stream",
     "text": [
      "NaN Values in Each Column:\n",
      "Series([], dtype: int64)\n"
     ]
    }
   ],
   "source": [
    "# i'm verifying that i have predicted all the columns\n",
    "nan_values  = df.isna().sum()\n",
    "print(\"NaN Values in Each Column:\")\n",
    "print(nan_values[nan_values>0])"
   ]
  }
 ],
 "metadata": {
  "kernelspec": {
   "display_name": "Python 3 (ipykernel)",
   "language": "python",
   "name": "python3"
  },
  "language_info": {
   "codemirror_mode": {
    "name": "ipython",
    "version": 3
   },
   "file_extension": ".py",
   "mimetype": "text/x-python",
   "name": "python",
   "nbconvert_exporter": "python",
   "pygments_lexer": "ipython3",
   "version": "3.11.5"
  }
 },
 "nbformat": 4,
 "nbformat_minor": 4
}
