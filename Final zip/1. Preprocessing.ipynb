{
 "cells": [
  {
   "cell_type": "markdown",
   "metadata": {},
   "source": [
    "## Importing libraries"
   ]
  },
  {
   "cell_type": "code",
   "execution_count": 2,
   "metadata": {},
   "outputs": [],
   "source": [
    "import os\n",
    "import pandas as pd\n",
    "import numpy as np"
   ]
  },
  {
   "cell_type": "markdown",
   "metadata": {},
   "source": [
    "## Importing data "
   ]
  },
  {
   "cell_type": "code",
   "execution_count": 5,
   "metadata": {},
   "outputs": [
    {
     "name": "stdout",
     "output_type": "stream",
     "text": [
      "datashape:  (160, 54)\n",
      "<class 'pandas.core.frame.DataFrame'>\n",
      "RangeIndex: 160 entries, 0 to 159\n",
      "Data columns (total 54 columns):\n",
      " #   Column     Non-Null Count  Dtype  \n",
      "---  ------     --------------  -----  \n",
      " 0   age        159 non-null    float64\n",
      " 1   gender     160 non-null    int64  \n",
      " 2   education  159 non-null    float64\n",
      " 3   marital    160 non-null    int64  \n",
      " 4   income     160 non-null    int64  \n",
      " 5   phq_1      160 non-null    int64  \n",
      " 6   phq_2      155 non-null    float64\n",
      " 7   phq_3      159 non-null    float64\n",
      " 8   phq_4      160 non-null    int64  \n",
      " 9   phq_5      160 non-null    int64  \n",
      " 10  phq_6      160 non-null    int64  \n",
      " 11  phq_7      159 non-null    float64\n",
      " 12  phq_8      159 non-null    float64\n",
      " 13  phq_9      159 non-null    float64\n",
      " 14  gad_1      159 non-null    float64\n",
      " 15  gad_2      160 non-null    int64  \n",
      " 16  gad_3      159 non-null    float64\n",
      " 17  gad_4      159 non-null    float64\n",
      " 18  gad_5      159 non-null    float64\n",
      " 19  gad_6      159 non-null    float64\n",
      " 20  gad_7      159 non-null    float64\n",
      " 21  eheals_1   158 non-null    float64\n",
      " 22  eheals_2   156 non-null    float64\n",
      " 23  eheals_3   158 non-null    float64\n",
      " 24  eheals_4   158 non-null    float64\n",
      " 25  eheals_5   158 non-null    float64\n",
      " 26  eheals_6   160 non-null    int64  \n",
      " 27  eheals_7   160 non-null    int64  \n",
      " 28  eheals_8   159 non-null    float64\n",
      " 29  heas_1     159 non-null    float64\n",
      " 30  heas_2     159 non-null    float64\n",
      " 31  heas_3     158 non-null    float64\n",
      " 32  heas_4     160 non-null    int64  \n",
      " 33  heas_5     160 non-null    int64  \n",
      " 34  heas_6     160 non-null    int64  \n",
      " 35  heas_7     160 non-null    int64  \n",
      " 36  heas_8     160 non-null    int64  \n",
      " 37  heas_9     159 non-null    float64\n",
      " 38  heas_10    158 non-null    float64\n",
      " 39  heas_11    160 non-null    int64  \n",
      " 40  heas_12    158 non-null    float64\n",
      " 41  heas_13    159 non-null    float64\n",
      " 42  ccs_1      158 non-null    float64\n",
      " 43  ccs_2      160 non-null    int64  \n",
      " 44  ccs_3      159 non-null    float64\n",
      " 45  ccs_4      156 non-null    float64\n",
      " 46  ccs_5      158 non-null    float64\n",
      " 47  ccs_6      157 non-null    float64\n",
      " 48  ccs_7      160 non-null    int64  \n",
      " 49  ccs_8      160 non-null    int64  \n",
      " 50  ccs_9      160 non-null    int64  \n",
      " 51  ccs_10     160 non-null    int64  \n",
      " 52  ccs_11     160 non-null    int64  \n",
      " 53  ccs_12     160 non-null    int64  \n",
      "dtypes: float64(31), int64(23)\n",
      "memory usage: 67.6 KB\n",
      "None\n"
     ]
    }
   ],
   "source": [
    "current_directory = os.getcwd()\n",
    "file_name = 'dataset_project_eHealth20232024.csv'\n",
    "df = pd.read_csv(os.path.join(current_directory, file_name))\n",
    "\n",
    "random_state = 10\n",
    "print(\"datashape: \", df.shape)\n",
    "print(df.info())\n",
    "n_samples = df.shape[0]"
   ]
  },
  {
   "cell_type": "markdown",
   "metadata": {},
   "source": [
    "# Data Cleaning"
   ]
  },
  {
   "cell_type": "markdown",
   "metadata": {},
   "source": [
    "## Missing Data"
   ]
  },
  {
   "cell_type": "code",
   "execution_count": 6,
   "metadata": {},
   "outputs": [],
   "source": [
    "# Sex and marital status -> average\n",
    "# df_ccs['age'].fillna(df_ccs.mean()['age'])\n",
    "# df_ccs['education'].fillna(df_ccs.median()['education'])\n",
    "df['age'] = df['age'].fillna(df['age'].mean())\n",
    "df['education'] = df['education'].fillna(df['education'].mean())"
   ]
  },
  {
   "cell_type": "markdown",
   "metadata": {},
   "source": [
    "## Feature selection"
   ]
  },
  {
   "cell_type": "code",
   "execution_count": 7,
   "metadata": {},
   "outputs": [
    {
     "name": "stdout",
     "output_type": "stream",
     "text": [
      "Index(['gender', 'marital', 'income', 'phq_1', 'phq_2', 'phq_3', 'phq_4',\n",
      "       'phq_5', 'phq_6', 'phq_7', 'phq_8', 'phq_9', 'gad_1', 'gad_2', 'gad_3',\n",
      "       'gad_4', 'gad_5', 'gad_6', 'gad_7', 'eheals_1', 'eheals_2', 'eheals_3',\n",
      "       'eheals_4', 'eheals_5', 'eheals_6', 'eheals_7', 'eheals_8'],\n",
      "      dtype='object')\n",
      "      age  education  heas_1  heas_2  heas_3  heas_4  heas_5  heas_6  heas_7  \\\n",
      "0    42.0        5.0     1.0     0.0     0.0       0       0       0       2   \n",
      "1    51.0       18.0     0.0     1.0     2.0       0       0       2       0   \n",
      "2    40.0        8.0     0.0     2.0     0.0       0       0       0       0   \n",
      "3    19.0       25.0     0.0     0.0     3.0       3       3       3       3   \n",
      "4    42.0       13.0     1.0     0.0     1.0       2       0       0       3   \n",
      "..    ...        ...     ...     ...     ...     ...     ...     ...     ...   \n",
      "155  29.0       18.0     3.0     3.0     3.0       2       2       3       3   \n",
      "156  40.0       13.0     1.0     0.0     3.0       1       2       1       0   \n",
      "157  40.0       13.0     0.0     0.0     0.0       3       0       3       0   \n",
      "158  41.0        8.0     0.0     0.0     0.0       1       1       0       0   \n",
      "159  55.0        8.0     0.0     0.0     0.0       2       0       0       0   \n",
      "\n",
      "     heas_8  heas_9  heas_10  heas_11  heas_12  heas_13  ccs_1  ccs_2  ccs_3  \\\n",
      "0         0     2.0      2.0        1      0.0      0.0    0.0      6    5.0   \n",
      "1         0     0.0      0.0        0      0.0      2.0    1.0      1    3.0   \n",
      "2         0     0.0      0.0        0      0.0      0.0    4.0      3    6.0   \n",
      "3         0     0.0      2.0        3      0.0      0.0    0.0      1    6.0   \n",
      "4         2     3.0      0.0        3      1.0      0.0    1.0      0    6.0   \n",
      "..      ...     ...      ...      ...      ...      ...    ...    ...    ...   \n",
      "155       3     3.0      3.0        1      0.0      1.0    1.0      1    4.0   \n",
      "156       2     1.0      3.0        0      2.0      0.0    0.0      3    6.0   \n",
      "157       0     0.0      1.0        0      1.0      2.0    0.0      0    4.0   \n",
      "158       0     0.0      0.0        1      0.0      0.0    3.0      4    0.0   \n",
      "159       0     0.0      0.0        2      0.0      0.0    6.0      4    2.0   \n",
      "\n",
      "     ccs_4  ccs_5  ccs_6  ccs_7  ccs_8  ccs_9  ccs_10  ccs_11  ccs_12  \n",
      "0      1.0    4.0    3.0      0      4      0       0       3       1  \n",
      "1      6.0    6.0    1.0      0      1      4       0       3       6  \n",
      "2      6.0    6.0    0.0      5      0      2       1       6       3  \n",
      "3      4.0    0.0    4.0      6      0      1       1       0       4  \n",
      "4      6.0    0.0    0.0      6      1      1       0       5       4  \n",
      "..     ...    ...    ...    ...    ...    ...     ...     ...     ...  \n",
      "155    4.0    0.0    6.0      6      0      2       3       2       5  \n",
      "156    1.0    1.0    1.0      1      6      0       0       0       6  \n",
      "157    6.0    0.0    2.0      2      0      4       2       1       4  \n",
      "158    1.0    0.0    1.0      3      4      0       0       4       2  \n",
      "159    1.0    0.0    6.0      4      5      5       0       1       1  \n",
      "\n",
      "[160 rows x 27 columns]\n"
     ]
    }
   ],
   "source": [
    "# Feature Selection\n",
    "columns_to_drop = df.columns[3:29] # Columns 5 to 41\n",
    "columns_to_drop = columns_to_drop.insert(0, df.columns[1])\n",
    "# columns_to_drop = columns_to_drop.append(df.columns[1])\n",
    "# columns_to_drop = df.columns[0:42] # Columns 0 to 41\n",
    "print(columns_to_drop)\n",
    "df_ccs = df.drop(columns=columns_to_drop)\n",
    "# df_ccs = df_ccs.dropna()\n",
    "# print(df.head())\n",
    "with pd.option_context('display.max_rows', 10,\n",
    "                       'display.max_columns', None,\n",
    "                       'display.precision', 3,\n",
    "                       ):\n",
    "    print(df_ccs)\n"
   ]
  },
  {
   "cell_type": "markdown",
   "metadata": {},
   "source": [
    "## Reverse Scores"
   ]
  },
  {
   "cell_type": "code",
   "execution_count": 13,
   "metadata": {},
   "outputs": [],
   "source": [
    "def reverse_score(string, max):\n",
    "    # print(df_ccs[string])\n",
    "    mean_value = (max)/2\n",
    "    df_ccs[string] = df_ccs[string] - mean_value\n",
    "    df_ccs[string] = - df_ccs[string]\n",
    "    df_ccs[string] = df_ccs[string] + mean_value\n",
    "    # print(df_ccs[string])"
   ]
  },
  {
   "cell_type": "code",
   "execution_count": 14,
   "metadata": {},
   "outputs": [],
   "source": [
    "to_be_reversed = ['ccs_3', 'ccs_6', 'ccs_7', 'ccs_12', 'heas_1', 'heas_2', 'heas_3', 'heas_4', 'heas_5', 'heas_6', 'heas_7',\n",
    "       'heas_8', 'heas_9', 'heas_10', 'heas_11', 'heas_12', 'heas_13']\n",
    "\n",
    "for feature in to_be_reversed:\n",
    "    if feature[:3] == 'ccs':\n",
    "        reverse_score(feature, 6)\n",
    "    else:\n",
    "        reverse_score(feature, 3)"
   ]
  },
  {
   "cell_type": "markdown",
   "metadata": {},
   "source": [
    "## Features Creation"
   ]
  },
  {
   "cell_type": "code",
   "execution_count": 16,
   "metadata": {},
   "outputs": [
    {
     "name": "stdout",
     "output_type": "stream",
     "text": [
      "      Age  Education  Affective Symptoms  Rumination  Behavioural Symptoms  \\\n",
      "0    42.0        5.0                2.75    2.333333              1.666667   \n",
      "1    51.0       18.0                2.25    2.333333              3.000000   \n",
      "2    40.0        8.0                2.50    3.000000              3.000000   \n",
      "3    19.0       25.0                1.50    0.000000              2.333333   \n",
      "4    42.0       13.0                2.00    2.000000              1.333333   \n",
      "..    ...        ...                 ...         ...                   ...   \n",
      "155  29.0       18.0                0.25    0.333333              0.000000   \n",
      "156  40.0       13.0                1.75    2.000000              1.000000   \n",
      "157  40.0       13.0                2.25    2.000000              2.666667   \n",
      "158  41.0        8.0                2.75    2.666667              3.000000   \n",
      "159  55.0        8.0                2.50    3.000000              3.000000   \n",
      "\n",
      "     Anxiety Personal Impact  Attribution Skepticism  Impact Skepticism  \\\n",
      "0                   2.666667                3.000000           3.333333   \n",
      "1                   2.333333                3.333333           3.000000   \n",
      "2                   3.000000                3.666667           3.000000   \n",
      "3                   2.000000                1.333333           0.666667   \n",
      "4                   1.666667                2.333333           0.666667   \n",
      "..                       ...                     ...                ...   \n",
      "155                 2.333333                1.000000           1.000000   \n",
      "156                 2.333333                2.666667           0.333333   \n",
      "157                 2.000000                2.666667           1.333333   \n",
      "158                 2.666667                3.000000           3.333333   \n",
      "159                 2.333333                3.000000           3.000000   \n",
      "\n",
      "     Trend Skepticism  Response Skepticism  \n",
      "0            3.000000             1.666667  \n",
      "1            3.333333             2.333333  \n",
      "2            3.666667             2.333333  \n",
      "3            0.000000             1.666667  \n",
      "4            2.000000             2.333333  \n",
      "..                ...                  ...  \n",
      "155          1.000000             2.333333  \n",
      "156          1.666667             2.333333  \n",
      "157          1.666667             2.666667  \n",
      "158          3.333333             1.666667  \n",
      "159          3.000000             2.000000  \n",
      "\n",
      "[160 rows x 10 columns]\n"
     ]
    }
   ],
   "source": [
    "data_ccs = pd.DataFrame() \n",
    "data_ccs['Age'] = df_ccs['age']\n",
    "data_ccs['Education'] = df_ccs['education']\n",
    "# data_ccs['Education'] = df_ccs['education']\n",
    "data_ccs['Affective Symptoms'] = df_ccs[['heas_1', 'heas_2', 'heas_3', 'heas_4']].mean(axis=1)\n",
    "data_ccs['Rumination'] = df_ccs[['heas_5', 'heas_6', 'heas_7']].mean(axis=1)\n",
    "data_ccs['Behavioural Symptoms'] = df_ccs[['heas_8', 'heas_9', 'heas_10']].mean(axis=1)\n",
    "data_ccs['Anxiety Personal Impact'] = df_ccs[['heas_11', 'heas_12', 'heas_13']].mean(axis=1)\n",
    "data_ccs['Attribution Skepticism'] = df_ccs[['ccs_2', 'ccs_6', 'ccs_9']].mean(axis=1)\n",
    "data_ccs['Impact Skepticism'] = df_ccs[['ccs_3', 'ccs_5', 'ccs_12']].mean(axis=1)\n",
    "data_ccs['Trend Skepticism'] = df_ccs[['ccs_1', 'ccs_7', 'ccs_11']].mean(axis=1)\n",
    "data_ccs['Response Skepticism'] = df_ccs[['ccs_4', 'ccs_8', 'ccs_10']].mean(axis=1)\n",
    "# data_ccs['Income'] = df['income']\n",
    "'''\n",
    "dummies = pd.get_dummies(df.gender)\n",
    "dummies = dummies.replace('True', 1)\n",
    "dummies = dummies.replace('False', 0)\n",
    "data_ccs['Male'] = dummies[0]\n",
    "data_ccs['Female'] = dummies[1]\n",
    "data_ccs['Non-binary'] = dummies[2]\n",
    "dummies = pd.get_dummies(df.marital)\n",
    "dummies = dummies.replace('True', 1)\n",
    "dummies = dummies.replace('False', 0)\n",
    "data_ccs['Single'] = dummies[0]\n",
    "data_ccs['Married'] = dummies[1]\n",
    "data_ccs['Divorced'] = dummies[2]\n",
    "data_ccs['Widowed'] = dummies[3]\n",
    "data_ccs['Separated'] = dummies[4]\n",
    "'''\n",
    "print(data_ccs)\n",
    "data_ccs.to_csv('data_ccs.csv')\n",
    "\n",
    "\n",
    "final_df = data_ccs.copy()\n",
    "dummies = pd.get_dummies(df.gender)\n",
    "dummies = dummies.replace('True', 1)\n",
    "dummies = dummies.replace('False', 0)\n",
    "final_df['Male'] = dummies[0]\n",
    "final_df['Female'] = dummies[1]\n",
    "final_df['Non-binary'] = dummies[2]\n",
    "dummies = pd.get_dummies(df.marital)\n",
    "dummies = dummies.replace('True', 1)\n",
    "dummies = dummies.replace('False', 0)\n",
    "final_df['Single'] = dummies[0]\n",
    "final_df['Married'] = dummies[1]\n",
    "final_df['Divorced'] = dummies[2]\n",
    "final_df['Widowed'] = dummies[3]\n",
    "final_df['Separated'] = dummies[4]\n",
    "final_df['Income'] = df['income']\n",
    "#print(final_df)\n",
    "final_df.to_csv('final_df.csv')\n"
   ]
  },
  {
   "cell_type": "markdown",
   "metadata": {},
   "source": [
    "# Exploratory Data Analysis"
   ]
  }
 ],
 "metadata": {
  "kernelspec": {
   "display_name": "Python 3",
   "language": "python",
   "name": "python3"
  },
  "language_info": {
   "codemirror_mode": {
    "name": "ipython",
    "version": 3
   },
   "file_extension": ".py",
   "mimetype": "text/x-python",
   "name": "python",
   "nbconvert_exporter": "python",
   "pygments_lexer": "ipython3",
   "version": "3.11.5"
  }
 },
 "nbformat": 4,
 "nbformat_minor": 2
}
